{
 "cells": [
  {
   "cell_type": "code",
   "execution_count": 1,
   "metadata": {
    "ExecuteTime": {
     "end_time": "2019-09-08T05:02:56.222228Z",
     "start_time": "2019-09-08T05:02:56.216244Z"
    }
   },
   "outputs": [],
   "source": [
    "import sys as _sys\n",
    "import os as _os\n",
    "\n",
    "_head, _sep, _tail = _os.getcwd().partition('govhack2019')\n",
    "_sys.path.insert(0, _os.path.join(_head, _sep))"
   ]
  },
  {
   "cell_type": "code",
   "execution_count": 2,
   "metadata": {
    "ExecuteTime": {
     "end_time": "2019-09-08T05:02:57.836652Z",
     "start_time": "2019-09-08T05:02:56.226217Z"
    }
   },
   "outputs": [],
   "source": [
    "from index import start_webservice"
   ]
  },
  {
   "cell_type": "code",
   "execution_count": null,
   "metadata": {
    "ExecuteTime": {
     "start_time": "2019-09-08T05:02:56.201Z"
    },
    "scrolled": false
   },
   "outputs": [
    {
     "name": "stdout",
     "output_type": "stream",
     "text": [
      " * Serving Flask app \"server\" (lazy loading)\n",
      " * Environment: production\n",
      "   WARNING: This is a development server. Do not use it in a production deployment.\n",
      "   Use a production WSGI server instead.\n",
      " * Debug mode: off\n"
     ]
    },
    {
     "name": "stderr",
     "output_type": "stream",
     "text": [
      " * Running on http://127.0.0.1:8050/ (Press CTRL+C to quit)\n",
      "127.0.0.1 - - [08/Sep/2019 15:02:59] \"\u001b[37mGET /jinder/template HTTP/1.1\u001b[0m\" 200 -\n",
      "127.0.0.1 - - [08/Sep/2019 15:02:59] \"\u001b[37mGET /jinder/_dash-dependencies HTTP/1.1\u001b[0m\" 200 -\n",
      "127.0.0.1 - - [08/Sep/2019 15:02:59] \"\u001b[37mGET /jinder/_dash-layout HTTP/1.1\u001b[0m\" 200 -\n",
      "127.0.0.1 - - [08/Sep/2019 15:03:00] \"\u001b[37mGET /jinder/assets/favicon.ico?m=1567861149.332 HTTP/1.1\u001b[0m\" 200 -\n",
      "127.0.0.1 - - [08/Sep/2019 15:03:00] \"\u001b[37mPOST /jinder/_dash-update-component HTTP/1.1\u001b[0m\" 200 -\n",
      "127.0.0.1 - - [08/Sep/2019 15:03:00] \"\u001b[37mPOST /jinder/_dash-update-component HTTP/1.1\u001b[0m\" 200 -\n",
      "127.0.0.1 - - [08/Sep/2019 15:03:00] \"\u001b[37mPOST /jinder/_dash-update-component HTTP/1.1\u001b[0m\" 200 -\n",
      "127.0.0.1 - - [08/Sep/2019 15:03:00] \"\u001b[37mPOST /jinder/_dash-update-component HTTP/1.1\u001b[0m\" 200 -\n",
      "127.0.0.1 - - [08/Sep/2019 15:03:00] \"\u001b[37mPOST /jinder/_dash-update-component HTTP/1.1\u001b[0m\" 204 -\n",
      "127.0.0.1 - - [08/Sep/2019 15:03:00] \"\u001b[37mPOST /jinder/_dash-update-component HTTP/1.1\u001b[0m\" 200 -\n",
      "127.0.0.1 - - [08/Sep/2019 15:03:08] \"\u001b[37mPOST /jinder/_dash-update-component HTTP/1.1\u001b[0m\" 200 -\n",
      "127.0.0.1 - - [08/Sep/2019 15:04:01] \"\u001b[37mPOST /jinder/_dash-update-component HTTP/1.1\u001b[0m\" 200 -\n",
      "127.0.0.1 - - [08/Sep/2019 15:04:01] \"\u001b[37mPOST /jinder/_dash-update-component HTTP/1.1\u001b[0m\" 200 -\n",
      "127.0.0.1 - - [08/Sep/2019 15:04:02] \"\u001b[37mPOST /jinder/_dash-update-component HTTP/1.1\u001b[0m\" 200 -\n",
      "127.0.0.1 - - [08/Sep/2019 15:04:02] \"\u001b[37mPOST /jinder/_dash-update-component HTTP/1.1\u001b[0m\" 204 -\n",
      "127.0.0.1 - - [08/Sep/2019 15:04:06] \"\u001b[37mPOST /jinder/_dash-update-component HTTP/1.1\u001b[0m\" 200 -\n",
      "127.0.0.1 - - [08/Sep/2019 15:04:28] \"\u001b[37mPOST /jinder/_dash-update-component HTTP/1.1\u001b[0m\" 200 -\n",
      "127.0.0.1 - - [08/Sep/2019 15:04:29] \"\u001b[37mGET /jinder/template HTTP/1.1\u001b[0m\" 200 -\n",
      "127.0.0.1 - - [08/Sep/2019 15:04:30] \"\u001b[37mGET /jinder/_dash-dependencies HTTP/1.1\u001b[0m\" 200 -\n",
      "127.0.0.1 - - [08/Sep/2019 15:04:30] \"\u001b[37mGET /jinder/_dash-layout HTTP/1.1\u001b[0m\" 200 -\n",
      "127.0.0.1 - - [08/Sep/2019 15:04:30] \"\u001b[37mPOST /jinder/_dash-update-component HTTP/1.1\u001b[0m\" 200 -\n",
      "127.0.0.1 - - [08/Sep/2019 15:04:30] \"\u001b[37mPOST /jinder/_dash-update-component HTTP/1.1\u001b[0m\" 200 -\n",
      "127.0.0.1 - - [08/Sep/2019 15:04:30] \"\u001b[37mPOST /jinder/_dash-update-component HTTP/1.1\u001b[0m\" 200 -\n",
      "127.0.0.1 - - [08/Sep/2019 15:04:30] \"\u001b[37mPOST /jinder/_dash-update-component HTTP/1.1\u001b[0m\" 200 -\n",
      "127.0.0.1 - - [08/Sep/2019 15:04:30] \"\u001b[37mPOST /jinder/_dash-update-component HTTP/1.1\u001b[0m\" 204 -\n",
      "127.0.0.1 - - [08/Sep/2019 15:04:30] \"\u001b[37mPOST /jinder/_dash-update-component HTTP/1.1\u001b[0m\" 200 -\n"
     ]
    }
   ],
   "source": [
    "start_webservice(True)"
   ]
  }
 ],
 "metadata": {
  "hide_input": false,
  "kernelspec": {
   "display_name": "Python 3",
   "language": "python",
   "name": "python3"
  },
  "language_info": {
   "codemirror_mode": {
    "name": "ipython",
    "version": 3
   },
   "file_extension": ".py",
   "mimetype": "text/x-python",
   "name": "python",
   "nbconvert_exporter": "python",
   "pygments_lexer": "ipython3",
   "version": "3.6.8"
  },
  "toc": {
   "base_numbering": 1,
   "nav_menu": {},
   "number_sections": true,
   "sideBar": true,
   "skip_h1_title": false,
   "title_cell": "Table of Contents",
   "title_sidebar": "Contents",
   "toc_cell": false,
   "toc_position": {},
   "toc_section_display": true,
   "toc_window_display": false
  },
  "varInspector": {
   "cols": {
    "lenName": 16,
    "lenType": 16,
    "lenVar": 40
   },
   "kernels_config": {
    "python": {
     "delete_cmd_postfix": "",
     "delete_cmd_prefix": "del ",
     "library": "var_list.py",
     "varRefreshCmd": "print(var_dic_list())"
    },
    "r": {
     "delete_cmd_postfix": ") ",
     "delete_cmd_prefix": "rm(",
     "library": "var_list.r",
     "varRefreshCmd": "cat(var_dic_list()) "
    }
   },
   "types_to_exclude": [
    "module",
    "function",
    "builtin_function_or_method",
    "instance",
    "_Feature"
   ],
   "window_display": false
  }
 },
 "nbformat": 4,
 "nbformat_minor": 2
}
